{
 "cells": [
  {
   "cell_type": "code",
   "execution_count": 1,
   "metadata": {},
   "outputs": [],
   "source": [
    "import numpy as np\n",
    "import autograd.numpy as np\n",
    "import matplotlib.pyplot as plt \n",
    "import seaborn as sns\n",
    "from numpy.linalg import inv, solve\n",
    "%matplotlib inline\n",
    "plt.rcParams[\"figure.figsize\"] = (20,10)\n",
    "\n",
    "import torch as th\n",
    "from torch import nn, optim\n",
    "import torch.nn.functional as F\n",
    "from tqdm import tqdm_notebook as tqdm"
   ]
  },
  {
   "cell_type": "markdown",
   "metadata": {},
   "source": [
    "# Train a simple NN on MNIST"
   ]
  },
  {
   "cell_type": "code",
   "execution_count": 2,
   "metadata": {},
   "outputs": [],
   "source": [
    "# Hyperparameters\n",
    "batch_size = 100\n",
    "lrate = 1e-3\n",
    "n_hidden = [512, 256]\n",
    "n_epochs = 10"
   ]
  },
  {
   "cell_type": "code",
   "execution_count": 3,
   "metadata": {},
   "outputs": [],
   "source": [
    "# 1. Get the data and prepare the data handling\n",
    "import torchvision as tv\n",
    "trafo = tv.transforms.Compose([tv.transforms.ToTensor(),\n",
    "                               tv.transforms.Normalize((0.1307,), (0.3081,))])\n",
    "train_loader = th.utils.data.DataLoader(\n",
    "    tv.datasets.MNIST(\"./data\", train=True, download=True, transform = trafo), \n",
    "                      batch_size=batch_size, shuffle=True)\n",
    "test_loader = th.utils.data.DataLoader(\n",
    "    tv.datasets.MNIST(\"./data\", train=False, download=True, transform = trafo),\n",
    "                     batch_size=batch_size, shuffle=False)"
   ]
  },
  {
   "cell_type": "code",
   "execution_count": 4,
   "metadata": {},
   "outputs": [
    {
     "name": "stdout",
     "output_type": "stream",
     "text": [
      "Sequential(\n",
      "  (0): Linear(in_features=784, out_features=512, bias=True)\n",
      "  (1): ReLU(inplace=True)\n",
      "  (2): Linear(in_features=512, out_features=256, bias=True)\n",
      "  (3): ReLU(inplace=True)\n",
      "  (4): Linear(in_features=256, out_features=10, bias=True)\n",
      ")\n"
     ]
    }
   ],
   "source": [
    "# 2. Define the model \n",
    "class TwoLayerNet(nn.Module):\n",
    "    def __init__(self, n_neurons):\n",
    "        super(TwoLayerNet, self).__init__()\n",
    "        self.fc1 = nn.Linear(784, n_neurons[0])\n",
    "        self.fc2 = nn.Linear(n_neurons[0], n_neurons[1])\n",
    "        self.fc3 = nn.Linear(n_neurons[1], 10)\n",
    "    def forward(self, x):\n",
    "        out = F.relu(self.fc1(x))\n",
    "        out = F.relu(self.fc2(out))\n",
    "        out = self.fc3(out)\n",
    "        return out\n",
    "net = TwoLayerNet(n_neurons=n_hidden)\n",
    "\n",
    "net = nn.Sequential(nn.Linear(784, n_hidden[0]),\n",
    "                    nn.ReLU(True),\n",
    "                    nn.Linear(n_hidden[0], n_hidden[1]),\n",
    "                    nn.ReLU(True),\n",
    "                    nn.Linear(n_hidden[1], 10))\n",
    "print(net)"
   ]
  },
  {
   "cell_type": "code",
   "execution_count": 5,
   "metadata": {},
   "outputs": [],
   "source": [
    "# 3. Define the optimizer and Loss\n",
    "loss_fcn = nn.CrossEntropyLoss()  # Note: This already includes the softmax\n",
    "optimizer = optim.Adam(net.parameters(), lr=lrate)"
   ]
  },
  {
   "cell_type": "code",
   "execution_count": 10,
   "metadata": {},
   "outputs": [
    {
     "data": {
      "application/vnd.jupyter.widget-view+json": {
       "model_id": "3bce0ba5f6894045af1e73a7e7f52f98",
       "version_major": 2,
       "version_minor": 0
      },
      "text/plain": [
       "HBox(children=(IntProgress(value=0, max=10), HTML(value='')))"
      ]
     },
     "metadata": {},
     "output_type": "display_data"
    },
    {
     "data": {
      "application/vnd.jupyter.widget-view+json": {
       "model_id": "276d3a1e56774ca395fe4697eee04729",
       "version_major": 2,
       "version_minor": 0
      },
      "text/plain": [
       "HBox(children=(IntProgress(value=0, max=600), HTML(value='')))"
      ]
     },
     "metadata": {},
     "output_type": "display_data"
    },
    {
     "name": "stdout",
     "output_type": "stream",
     "text": [
      "\n"
     ]
    },
    {
     "data": {
      "image/png": "[encoded data removed]",
      "text/plain": [
       "<Figure size 1440x720 with 1 Axes>"
      ]
     },
     "metadata": {
      "needs_background": "light"
     },
     "output_type": "display_data"
    }
   ],
   "source": [
    "tot_loss = th.zeros(n_epochs)\n",
    "for t in tqdm(range(n_epochs)):\n",
    "    for data, target in tqdm(train_loader, leave=False):\n",
    "        optimizer.zero_grad() \n",
    "        y_pred = net(data.view(-1, 784))\n",
    "        loss = loss_fcn(y_pred, target)\n",
    "        tot_loss[t] += loss.item()\n",
    "        loss.backward()\n",
    "        optimizer.step()\n",
    "plt.plot(tot_loss)\n",
    "plt.xlabel(\"Epoch\")\n",
    "plt.ylabel(\"Loss\")\n",
    "sns.despine()"
   ]
  },
  {
   "cell_type": "code",
   "execution_count": 9,
   "metadata": {},
   "outputs": [],
   "source": [
    "def eval_acc(net, data_loader):   \n",
    "    n_pred = 0\n",
    "    n_corr = 0\n",
    "    with th.no_grad():\n",
    "        for data, target in data_loader:\n",
    "            pred = net(data.view(-1,784))\n",
    "            n_corr += pred.argmax(1).eq(target).sum().item()\n",
    "            n_pred += pred.shape[0]\n",
    "    return n_corr/n_pred"
   ]
  },
  {
   "cell_type": "code",
   "execution_count": 11,
   "metadata": {},
   "outputs": [
    {
     "name": "stdout",
     "output_type": "stream",
     "text": [
      "Train Acc: 0.9974\n",
      "Test Acc: 0.9846\n"
     ]
    }
   ],
   "source": [
    "print(f\"Train Acc: {eval_acc(net, train_loader):.4f}\")\n",
    "print(f\"Test Acc: {eval_acc(net, test_loader):.4f}\")"
   ]
  },
  {
   "cell_type": "code",
   "execution_count": null,
   "metadata": {},
   "outputs": [],
   "source": []
  }
 ],
 "metadata": {
  "@webio": {
   "lastCommId": null,
   "lastKernelId": null
  },
  "kernelspec": {
   "display_name": "Python 3",
   "language": "python",
   "name": "python3"
  },
  "language_info": {
   "codemirror_mode": {
    "name": "ipython",
    "version": 3
   },
   "file_extension": ".py",
   "mimetype": "text/x-python",
   "name": "python",
   "nbconvert_exporter": "python",
   "pygments_lexer": "ipython3",
   "version": "3.8.0"
  }
 },
 "nbformat": 4,
 "nbformat_minor": 2
}
