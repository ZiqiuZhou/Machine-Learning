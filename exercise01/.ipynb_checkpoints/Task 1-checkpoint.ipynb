{
 "cells": [
  {
   "cell_type": "code",
   "execution_count": 1,
   "metadata": {},
   "outputs": [],
   "source": [
    "import numpy as np\n",
    "import matplotlib.pyplot as plt\n",
    "from sklearn.decomposition import PCA as pca_"
   ]
  },
  {
   "cell_type": "code",
   "execution_count": 2,
   "metadata": {},
   "outputs": [],
   "source": [
    "# Load and format the data\n",
    "## Load protein data\n",
    "protein = np.loadtxt('protein.txt').T\n",
    "countries = np.array(['Albania','Austria','Belgium','Bulgaria','Czechoslovakia','Denmark','EGermany','Finland','France','Greece','Hungary'\n",
    "                      ,'Ireland','Italy','Netherlands','Norway','Poland','Portugal','Romania','Spain','Sweden','Switzerland','UK','USSR','WGermany'\n",
    "                      ,'Yugoslavia'])\n",
    "## Load randomly distributed data\n",
    "samples = np.load('samples.npy')\n",
    "## Load digits\n",
    "digits = np.load('digits.npy')"
   ]
  },
  {
   "cell_type": "code",
   "execution_count": 3,
   "metadata": {},
   "outputs": [],
   "source": [
    "# Implementing PCA\n",
    "def PCA(dataMatrix):\n",
    "    ## Centering Matrix\n",
    "    C = (np.eye(dataMatrix.shape[1]) - (1/dataMatrix.shape[1])*np.ones((dataMatrix.shape[1],dataMatrix.shape[1])))\n",
    "    ## Center the input data Matrix\n",
    "    X = dataMatrix.dot(C)\n",
    "    ## Find eigenvalues and -vectors\n",
    "    l,w = np.linalg.eig(X.dot(X.T))\n",
    "    l = l.real\n",
    "    w = w.real\n",
    "    ## Sort these for highest Eigenvalue\n",
    "    idx   = np.argsort(l)\n",
    "    l = np.array(l)[idx[::-1]]\n",
    "    w = np.array(w)[idx[::-1]]\n",
    "    ## Project data onto PCs\n",
    "    S = w.T.dot(X)\n",
    "    return l,w,S\n",
    "\n",
    "## Calculate PCs for the given example\n",
    "l,w,S = PCA(protein)"
   ]
  },
  {
   "cell_type": "code",
   "execution_count": 4,
   "metadata": {},
   "outputs": [],
   "source": [
    "## Display the Dataset projected onte the first two PCs\n",
    "plt.figure(figsize=(10,10))\n",
    "for n in range(len(S[0])):\n",
    "    xy = np.array([S[0][n],-S[1][n]])\n",
    "    plt.scatter(*xy)\n",
    "    xy += 0.1\n",
    "    plt.annotate(countries[n],xy=xy)\n",
    "    plt.xlabel('PC 1')\n",
    "    plt.ylabel('PC 2')\n",
    "    plt.title('Protein data projected onto the first two PCs')\n",
    "plt.savefig('Protein2d.png')\n",
    "plt.close()"
   ]
  },
  {
   "cell_type": "code",
   "execution_count": 5,
   "metadata": {},
   "outputs": [],
   "source": [
    "## Testing the result against a implementation in sklearn\n",
    "pca = pca_(n_components=2)\n",
    "pca.fit(protein.T)\n",
    "X = pca.components_.dot(protein)\n",
    "\n",
    "plt.figure(figsize=(8,8))\n",
    "for n in range(len(X[0])):\n",
    "    xy = np.array([X[0][n],X[1][n]])\n",
    "    plt.scatter(*xy)\n",
    "    xy += 0.08\n",
    "    plt.annotate(countries[n],xy=xy)\n",
    "    plt.xlabel('PC 1')\n",
    "    plt.ylabel('PC 2')\n",
    "    plt.title('Protein data projected onto the first two PCs USING SKLEARN')\n",
    "plt.savefig('Protein2d_sklearn.png')\n",
    "plt.close()"
   ]
  },
  {
   "cell_type": "code",
   "execution_count": 6,
   "metadata": {},
   "outputs": [],
   "source": [
    "# Scree plot and error\n",
    "## Screeplot\n",
    "plt.figure()\n",
    "plt.bar(range(1,10),l)\n",
    "plt.title('Scree plot for protein data')\n",
    "plt.xlabel('PC number')\n",
    "plt.ylabel('Eigenvalue ~ Variance')\n",
    "plt.savefig('Protein_ScreePlot.png')\n",
    "plt.close()\n",
    "\n",
    "plt.figure()\n",
    "plt.title('Distortion resulting from mapping to M-dim subspace')\n",
    "plt.plot(range(1,9),[np.sum(l[M:]) for M in range(1,9)])\n",
    "plt.ylabel(r'$error_M$')\n",
    "plt.savefig('Protein_Distortion.png')\n",
    "plt.close()"
   ]
  },
  {
   "cell_type": "code",
   "execution_count": 7,
   "metadata": {},
   "outputs": [],
   "source": [
    "## Visualization of distortion using MNIST threes\n",
    "### Flatten the images to 2*28 large vectors\n",
    "X = digits.reshape((digits.shape[0],digits.shape[1]*digits.shape[2])).T\n",
    "### PCA\n",
    "l,W,S = PCA(X)"
   ]
  },
  {
   "cell_type": "code",
   "execution_count": 8,
   "metadata": {},
   "outputs": [],
   "source": [
    "### Display the results\n",
    "fig, axs = plt.subplots(1,4)\n",
    "fig.set_size_inches(15, 8)\n",
    "i = 1000\n",
    "axs[0].imshow(digits[i])\n",
    "axs[0].set_title('Original')\n",
    "for n in range(1,4):\n",
    "    ### Trasforming back from the reduced space to the original space using only the first M PCs\n",
    "    M = n**2*100\n",
    "    if M > digits.shape[1]**2: M = digits.shape[1]**2\n",
    "    X = W[:,:M].dot(S[:M,:])\n",
    "    ### Reshaping the dataset to 28x28 matrizes\n",
    "    X = X.T.reshape((digits.shape[0],digits.shape[1],digits.shape[2]))\n",
    "    ### Plotting the result\n",
    "    axs[n].imshow(X[i])\n",
    "    axs[n].set_title('Reconstructed with {} PCs'.format(M))\n",
    "plt.savefig('MNIST_reconstruction.png')\n",
    "plt.close()"
   ]
  },
  {
   "cell_type": "code",
   "execution_count": 9,
   "metadata": {},
   "outputs": [],
   "source": [
    "# Implement KDE\n",
    "## Quartic Kernel\n",
    "quartic = lambda x: np.array([((15/16)*(1-x_**2)**2) if (x_>=-1 and 1>=x_) else 0.0 for x_ in x])\n",
    "\n",
    "plt.figure()\n",
    "x = np.linspace(-1.8,1.8,10000)\n",
    "for w in [0.5,1,1.5]:\n",
    "    plt.plot(x,(1/w)*quartic(x/w),label='Bandwidth = {}'.format(w))\n",
    "plt.title('Quartic Kernel with $\\mu$=0 and different bandwidths')\n",
    "plt.legend()\n",
    "plt.savefig('QuarticKernel.png')\n",
    "plt.close()"
   ]
  },
  {
   "cell_type": "code",
   "execution_count": 10,
   "metadata": {},
   "outputs": [],
   "source": [
    "## Calculate and plot KDE with different parameters\n",
    "kde = lambda x,samples_,w=0.5: (1/len(samples_)) * sum([(1/w)*quartic((x-mu)/w) for mu in samples_])\n",
    "\n",
    "x=np.linspace(-12,20,5000)\n",
    "plt.figure()\n",
    "for w in [0.1,0.5,1,3,5]:\n",
    "    plt.plot(x,kde(x,samples[:50],w),label='w={}'.format(w))\n",
    "plt.legend()\n",
    "plt.title('KDE with different bandwidths (n=50)')\n",
    "plt.xlabel('x')\n",
    "plt.ylabel('KDE $\\hat{p}$(x)')\n",
    "plt.savefig('KDE_Bandwidth.png')\n",
    "plt.close()"
   ]
  },
  {
   "cell_type": "code",
   "execution_count": 11,
   "metadata": {},
   "outputs": [],
   "source": [
    "x = np.linspace(-9,10,300)\n",
    "plt.figure()\n",
    "for n in [15,200,10000]:\n",
    "    plt.plot(x,kde(x,samples[:n]),label='n={}'.format(n))\n",
    "plt.legend()\n",
    "plt.title('KDE with different ammounts of samples (w=0.5)')\n",
    "plt.xlabel('x')\n",
    "plt.ylabel('KDE $\\hat{p}$(x)')\n",
    "plt.savefig('KDE_Samples.png')\n",
    "plt.close()"
   ]
  },
  {
   "cell_type": "code",
   "execution_count": 12,
   "metadata": {},
   "outputs": [],
   "source": [
    "plt.figure()\n",
    "x=np.linspace(-10,20,300)\n",
    "plt.plot(x,kde(x,samples,w=0.8))\n",
    "plt.title('KDE with good Parameters w = 0.8 with all available samples')\n",
    "plt.xlabel('x')\n",
    "plt.ylabel('KDE $\\hat{p}$(x)')\n",
    "plt.savefig('KDE_good.png')\n",
    "plt.close()"
   ]
  },
  {
   "cell_type": "code",
   "execution_count": 13,
   "metadata": {},
   "outputs": [],
   "source": [
    "## Calculate and plot the KDE for different sets of samples\n",
    "### Split the samples into sets\n",
    "num_of_sets = int (10000/50)\n",
    "sets = [samples[n::num_of_sets] for n in range(num_of_sets)]\n",
    "###\n",
    "plt.figure()\n",
    "for n in range(10):\n",
    "    plt.plot(x,kde(x,sets[n],w=0.8),color='darkblue',alpha=0.2)\n",
    "plt.title('The KDE of different subsets (n=50) of the sampleset')\n",
    "plt.xlabel('x')\n",
    "plt.ylabel('KDE $\\hat{p}$(x)')\n",
    "plt.savefig('KDE_subsets.png')\n",
    "plt.close()"
   ]
  },
  {
   "cell_type": "code",
   "execution_count": 14,
   "metadata": {},
   "outputs": [],
   "source": [
    "## A histogram of the entire sample set\n",
    "plt.hist(samples,bins=150)\n",
    "plt.title('Histogram of the entire sample set')\n",
    "plt.xlabel('x')\n",
    "plt.ylabel('frequency')\n",
    "plt.close()"
   ]
  }
 ],
 "metadata": {
  "kernelspec": {
   "display_name": "Python 3",
   "language": "python",
   "name": "python3"
  },
  "language_info": {
   "codemirror_mode": {
    "name": "ipython",
    "version": 3
   },
   "file_extension": ".py",
   "mimetype": "text/x-python",
   "name": "python",
   "nbconvert_exporter": "python",
   "pygments_lexer": "ipython3",
   "version": "3.6.7"
  }
 },
 "nbformat": 4,
 "nbformat_minor": 2
}
